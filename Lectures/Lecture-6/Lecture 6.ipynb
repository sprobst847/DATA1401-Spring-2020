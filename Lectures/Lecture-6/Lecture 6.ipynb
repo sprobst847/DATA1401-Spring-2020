{
 "cells": [
  {
   "cell_type": "markdown",
   "metadata": {},
   "source": [
    "# Lecture 6"
   ]
  },
  {
   "cell_type": "markdown",
   "metadata": {},
   "source": [
    "# Some common patterns\n",
    "\n",
    "### Loops"
   ]
  },
  {
   "cell_type": "code",
   "execution_count": 3,
   "metadata": {},
   "outputs": [
    {
     "name": "stdout",
     "output_type": "stream",
     "text": [
      "0\n",
      "1\n",
      "2\n",
      "3\n",
      "4\n",
      "5\n",
      "6\n",
      "7\n",
      "8\n",
      "9\n"
     ]
    }
   ],
   "source": [
    "for index in range(10):\n",
    "    print(index)"
   ]
  },
  {
   "cell_type": "code",
   "execution_count": 4,
   "metadata": {},
   "outputs": [
    {
     "name": "stdout",
     "output_type": "stream",
     "text": [
      "a\n",
      "b\n",
      "c\n",
      "a\n",
      "b\n",
      "c\n"
     ]
    }
   ],
   "source": [
    "lst=['a','b','c']\n",
    "\n",
    "for item in lst:\n",
    "    print(item)\n",
    "    \n",
    "for index in range(len(lst)):\n",
    "    print(lst[index])"
   ]
  },
  {
   "cell_type": "code",
   "execution_count": 5,
   "metadata": {},
   "outputs": [
    {
     "name": "stdout",
     "output_type": "stream",
     "text": [
      "0 a\n",
      "1 b\n",
      "2 c\n"
     ]
    }
   ],
   "source": [
    "for index,item in enumerate(lst):\n",
    "    print(index,item)"
   ]
  },
  {
   "cell_type": "code",
   "execution_count": 6,
   "metadata": {},
   "outputs": [
    {
     "name": "stdout",
     "output_type": "stream",
     "text": [
      "a A\n",
      "b B\n",
      "c C\n"
     ]
    }
   ],
   "source": [
    "lst1=['a','b','c']\n",
    "lst2=['A','B','C']\n",
    "\n",
    "for item1,item2 in zip(lst1,lst2):\n",
    "    print(item1,item2)\n"
   ]
  },
  {
   "cell_type": "code",
   "execution_count": 7,
   "metadata": {},
   "outputs": [
    {
     "data": {
      "text/plain": [
       "[('a', 'A'), ('b', 'B'), ('c', 'C')]"
      ]
     },
     "execution_count": 7,
     "metadata": {},
     "output_type": "execute_result"
    }
   ],
   "source": [
    "list(zip(lst1,lst2))"
   ]
  },
  {
   "cell_type": "markdown",
   "metadata": {},
   "source": [
    "## Functions / Return\n",
    "\n",
    "Functions that input/output lists:"
   ]
  },
  {
   "cell_type": "code",
   "execution_count": 8,
   "metadata": {},
   "outputs": [],
   "source": [
    "def multiply_scalar_list(scalar,b):\n",
    "    out = list()\n",
    "    for item in b:\n",
    "        out.append(scalar*item)\n",
    "    return out"
   ]
  },
  {
   "cell_type": "code",
   "execution_count": 9,
   "metadata": {},
   "outputs": [
    {
     "name": "stdout",
     "output_type": "stream",
     "text": [
      "[5, 10, 15]\n"
     ]
    }
   ],
   "source": [
    "print(multiply_scalar_list(5,[1,2,3]))"
   ]
  },
  {
   "cell_type": "code",
   "execution_count": 10,
   "metadata": {},
   "outputs": [],
   "source": [
    "def multiply_lists(a,b):\n",
    "    if len(a)!=len(b):\n",
    "        print(\"Only can multiply lists of same length.\")\n",
    "        return None\n",
    "    else:\n",
    "        out = list()\n",
    "        for item1,item2 in zip(a,b):\n",
    "            out.append(item1*item2)\n",
    "        return out "
   ]
  },
  {
   "cell_type": "code",
   "execution_count": 11,
   "metadata": {},
   "outputs": [
    {
     "name": "stdout",
     "output_type": "stream",
     "text": [
      "[2, 6, 12]\n",
      "Only can multiply lists of same length.\n",
      "None\n"
     ]
    }
   ],
   "source": [
    "print(multiply_lists([1,2,3],[2,3,4]))\n",
    "print(multiply_lists([1,2,3],[2,3,4,5]))"
   ]
  },
  {
   "cell_type": "code",
   "execution_count": 12,
   "metadata": {},
   "outputs": [],
   "source": [
    "def multiply(a,b):\n",
    "    if isinstance(a,(float,int)) and isinstance(b,(float,int)):\n",
    "        return a*b\n",
    "    elif isinstance(a,list) and isinstance(b,list):\n",
    "        return multiply_lists(a,b)\n",
    "    elif isinstance(a,list) and isinstance(b,(float,int)):\n",
    "        return multiply_scalar_list(b,a)\n",
    "    elif isinstance(b,list) and isinstance(a,(float,int)):\n",
    "        return multiply_scalar_list(a,b)\n",
    "    else:\n",
    "        print(\"Invalid input.\")\n",
    "        return None\n",
    "\n",
    "def multiply_lists(a,b):\n",
    "    if len(a)!=len(b):\n",
    "        print(\"Only can multiply lists of same length.\")\n",
    "        return None\n",
    "    else:\n",
    "        out = list()\n",
    "        for item1,item2 in zip(a,b):\n",
    "            out.append(multiply(item1,item2))\n",
    "        return out \n",
    "    \n",
    "def multiply_scalar_list(scalar,b):\n",
    "    out = list()\n",
    "    for item in b:\n",
    "        out.append(multiply(scalar,item))\n",
    "    return out"
   ]
  },
  {
   "cell_type": "code",
   "execution_count": 13,
   "metadata": {},
   "outputs": [
    {
     "name": "stdout",
     "output_type": "stream",
     "text": [
      "4\n",
      "[2, 4, 6]\n",
      "[2, 4, 6]\n",
      "[2, 6, 12]\n",
      "[[3, 3, 3], [8, 8, 8]]\n"
     ]
    }
   ],
   "source": [
    "print(multiply(2,2))\n",
    "\n",
    "print(multiply(2,[1,2,3]))\n",
    "print(multiply([1,2,3],2))\n",
    "\n",
    "print(multiply([1,2,3],[2,3,4]))\n",
    "\n",
    "print(multiply([[1,1,1],[2,2,2]], [[3,3,3],[4,4,4]]))\n"
   ]
  },
  {
   "cell_type": "markdown",
   "metadata": {},
   "source": [
    "## Functions of Functions"
   ]
  },
  {
   "cell_type": "code",
   "execution_count": 14,
   "metadata": {},
   "outputs": [],
   "source": [
    "def my_map(f,lst):\n",
    "    out=list()\n",
    "    for item in lst:\n",
    "        out.append(f(item))\n",
    "    return out"
   ]
  },
  {
   "cell_type": "code",
   "execution_count": 15,
   "metadata": {},
   "outputs": [
    {
     "name": "stdout",
     "output_type": "stream",
     "text": [
      "[1, 4, 9]\n",
      "[1, 8, 27]\n"
     ]
    }
   ],
   "source": [
    "def square(x):\n",
    "    return x*x\n",
    "\n",
    "def cube(x):\n",
    "    return x*x*x\n",
    "\n",
    "print(my_map(square,[1,2,3]))\n",
    "print(my_map(cube,[1,2,3]))"
   ]
  },
  {
   "cell_type": "code",
   "execution_count": 16,
   "metadata": {},
   "outputs": [],
   "source": [
    "def operator(f):\n",
    "    def my_map(lst):\n",
    "        out=list()\n",
    "        for item in lst:\n",
    "            out.append(f(item))\n",
    "        return out\n",
    "    return my_map"
   ]
  },
  {
   "cell_type": "code",
   "execution_count": 17,
   "metadata": {},
   "outputs": [
    {
     "name": "stdout",
     "output_type": "stream",
     "text": [
      "[1, 4, 9]\n",
      "[1, 8, 27]\n"
     ]
    }
   ],
   "source": [
    "square_operator=operator(square)\n",
    "cube_operator=operator(cube)\n",
    "\n",
    "print(square_operator([1,2,3]))\n",
    "print(cube_operator([1,2,3]))"
   ]
  },
  {
   "cell_type": "markdown",
   "metadata": {},
   "source": [
    "# Checkers\n",
    "In your lab, you will be implementing a tie-tac-toe game. If you do not have any previous experience programming, you may have some difficulty. So in this lecture we will implement a checkers game, which is much more complicated than tic-tac-toe. We will use this example as a way of exploring how to approach a programming problem and how python can facilite the process. \n",
    "\n",
    "If you are unfimilar with checkers, take a moment to read and get familiar by reading the [Wikipedia page](https://en.wikipedia.org/wiki/Draughts)."
   ]
  },
  {
   "cell_type": "markdown",
   "metadata": {},
   "source": [
    "## Game Representation\n",
    "\n",
    "Checkers is typically played on the same 8x8 board as chess. In order to play the game, we are going to have to store the state of the game, i.e. the contents of each square, in memory. A natural representation of the board is a matrix, where every element corresponds to a square on the board. We choose a convention that the square is empty when corresponding matrix element is 0, and 1 or 2 when there is piece from player 1 or 2, respectively, in the box. \n",
    "\n",
    "We may choose to change this convention later, so instead of \"hard-wiring\" 0, 1, and 2 into our code, we'll use variables that store the index. Using a variable will also make our code more readable. Similarily, we will keep our size flexible. "
   ]
  },
  {
   "cell_type": "code",
   "execution_count": 18,
   "metadata": {},
   "outputs": [],
   "source": [
    "# Index assignment for the matrix representation of the game board\n",
    "player_1 = 1\n",
    "player_2 = 2\n",
    "empty = 0\n",
    "\n",
    "# Game board size\n",
    "size = 8"
   ]
  },
  {
   "cell_type": "markdown",
   "metadata": {},
   "source": [
    "We will represent the matrix as a list rows of size `size`, each holding a list of integers of size `size`. We'll have to contruct this list. There are lots of ways of doing this, but we can use some python magic to simplify it all.\n",
    "\n",
    "An obvious way to make a such a list would be to use a loop:"
   ]
  },
  {
   "cell_type": "code",
   "execution_count": 19,
   "metadata": {},
   "outputs": [
    {
     "data": {
      "text/plain": [
       "[[0, 0, 0, 0, 0, 0, 0, 0],\n",
       " [0, 0, 0, 0, 0, 0, 0, 0],\n",
       " [0, 0, 0, 0, 0, 0, 0, 0],\n",
       " [0, 0, 0, 0, 0, 0, 0, 0],\n",
       " [0, 0, 0, 0, 0, 0, 0, 0],\n",
       " [0, 0, 0, 0, 0, 0, 0, 0],\n",
       " [0, 0, 0, 0, 0, 0, 0, 0],\n",
       " [0, 0, 0, 0, 0, 0, 0, 0]]"
      ]
     },
     "execution_count": 19,
     "metadata": {},
     "output_type": "execute_result"
    }
   ],
   "source": [
    "board=list()\n",
    "for i in range(size):\n",
    "    row=list()\n",
    "    for j in range(size):\n",
    "        row.append(empty)\n",
    "        \n",
    "    board.append(row)\n",
    "\n",
    "board"
   ]
  },
  {
   "cell_type": "markdown",
   "metadata": {},
   "source": [
    "In python, you can make a list of any length with exactly the same element using the following syntax:"
   ]
  },
  {
   "cell_type": "code",
   "execution_count": 20,
   "metadata": {},
   "outputs": [
    {
     "data": {
      "text/plain": [
       "[10, 10, 10, 10, 10, 10, 10, 10]"
      ]
     },
     "execution_count": 20,
     "metadata": {},
     "output_type": "execute_result"
    }
   ],
   "source": [
    "[10]*8"
   ]
  },
  {
   "cell_type": "markdown",
   "metadata": {},
   "source": [
    "So we can make our matrix in one line:"
   ]
  },
  {
   "cell_type": "code",
   "execution_count": 21,
   "metadata": {},
   "outputs": [
    {
     "data": {
      "text/plain": [
       "[[0, 0, 0, 0, 0, 0, 0, 0],\n",
       " [0, 0, 0, 0, 0, 0, 0, 0],\n",
       " [0, 0, 0, 0, 0, 0, 0, 0],\n",
       " [0, 0, 0, 0, 0, 0, 0, 0],\n",
       " [0, 0, 0, 0, 0, 0, 0, 0],\n",
       " [0, 0, 0, 0, 0, 0, 0, 0],\n",
       " [0, 0, 0, 0, 0, 0, 0, 0],\n",
       " [0, 0, 0, 0, 0, 0, 0, 0]]"
      ]
     },
     "execution_count": 21,
     "metadata": {},
     "output_type": "execute_result"
    }
   ],
   "source": [
    "board=[[empty]*size]*size\n",
    "board"
   ]
  },
  {
   "cell_type": "markdown",
   "metadata": {},
   "source": [
    "Unfortunately, there is a subtle problem here. What python has done in this case is that it has added the exact same instance of a the same inner list to a list, instead of creating a new list for each row. Notice what happens:"
   ]
  },
  {
   "cell_type": "code",
   "execution_count": 22,
   "metadata": {},
   "outputs": [
    {
     "data": {
      "text/plain": [
       "[[0, 1, 0, 0, 0, 0, 0, 0],\n",
       " [0, 1, 0, 0, 0, 0, 0, 0],\n",
       " [0, 1, 0, 0, 0, 0, 0, 0],\n",
       " [0, 1, 0, 0, 0, 0, 0, 0],\n",
       " [0, 1, 0, 0, 0, 0, 0, 0],\n",
       " [0, 1, 0, 0, 0, 0, 0, 0],\n",
       " [0, 1, 0, 0, 0, 0, 0, 0],\n",
       " [0, 1, 0, 0, 0, 0, 0, 0]]"
      ]
     },
     "execution_count": 22,
     "metadata": {},
     "output_type": "execute_result"
    }
   ],
   "source": [
    "board[1][1]=1\n",
    "board"
   ]
  },
  {
   "cell_type": "markdown",
   "metadata": {},
   "source": [
    "So we'll take a hybrid approach:"
   ]
  },
  {
   "cell_type": "code",
   "execution_count": 23,
   "metadata": {},
   "outputs": [
    {
     "data": {
      "text/plain": [
       "[[0, 0, 0, 0, 0, 0, 0, 0],\n",
       " [0, 1, 0, 0, 0, 0, 0, 0],\n",
       " [0, 0, 0, 0, 0, 0, 0, 0],\n",
       " [0, 0, 0, 0, 0, 0, 0, 0],\n",
       " [0, 0, 0, 0, 0, 0, 0, 0],\n",
       " [0, 0, 0, 0, 0, 0, 0, 0],\n",
       " [0, 0, 0, 0, 0, 0, 0, 0],\n",
       " [0, 0, 0, 0, 0, 0, 0, 0]]"
      ]
     },
     "execution_count": 23,
     "metadata": {},
     "output_type": "execute_result"
    }
   ],
   "source": [
    "board=list()\n",
    "for i in range(size):\n",
    "    board.append([empty]*size)\n",
    "\n",
    "board[1][1]=1\n",
    "board"
   ]
  },
  {
   "cell_type": "markdown",
   "metadata": {},
   "source": [
    "Using list comprehensions, we still can make our empty board in one line:"
   ]
  },
  {
   "cell_type": "code",
   "execution_count": 24,
   "metadata": {},
   "outputs": [
    {
     "data": {
      "text/plain": [
       "[[0, 0, 0, 0, 0, 0, 0, 0],\n",
       " [0, 1, 0, 0, 0, 0, 0, 0],\n",
       " [0, 0, 0, 0, 0, 0, 0, 0],\n",
       " [0, 0, 0, 0, 0, 0, 0, 0],\n",
       " [0, 0, 0, 0, 0, 0, 0, 0],\n",
       " [0, 0, 0, 0, 0, 0, 0, 0],\n",
       " [0, 0, 0, 0, 0, 0, 0, 0],\n",
       " [0, 0, 0, 0, 0, 0, 0, 0]]"
      ]
     },
     "execution_count": 24,
     "metadata": {},
     "output_type": "execute_result"
    }
   ],
   "source": [
    "board=[[empty]*size for i in range(size)]\n",
    "\n",
    "board[1][1]=1\n",
    "board"
   ]
  },
  {
   "cell_type": "markdown",
   "metadata": {},
   "source": [
    "Now lets write a function that will create a new game board for us with the pieces in the right spot. There are various ways to put the pieces into place. One observation is that only six rows are filled, and the placement of the pieces can be separated by even and odd columns (and by player). Player 1 fills the second odd and first and third odd-column rows. Player 2 is the same, but even/odd are interchanged and we count rows from the bottom. Read through the code below carefully. Note how the negative list indexing in python simplifies things in an elegant way that is very general."
   ]
  },
  {
   "cell_type": "code",
   "execution_count": 25,
   "metadata": {},
   "outputs": [],
   "source": [
    "def make_game_board(size=8):\n",
    "    # Make an empty board\n",
    "    board=[[empty]*size for i in range(size)]\n",
    "    \n",
    "    # Even Columns\n",
    "    for i in range(0,size,2):\n",
    "        board[1][i]=player_1\n",
    "        board[-1][i]=player_2\n",
    "        board[-3][i]=player_2\n",
    "        \n",
    "    # Odd Columns\n",
    "    for i in range(1,size,2):\n",
    "        board[0][i]=player_1\n",
    "        board[2][i]=player_1\n",
    "        board[-2][i]=player_2\n",
    "    \n",
    "    return board"
   ]
  },
  {
   "cell_type": "markdown",
   "metadata": {},
   "source": [
    "Lets test our code:"
   ]
  },
  {
   "cell_type": "code",
   "execution_count": 26,
   "metadata": {},
   "outputs": [
    {
     "data": {
      "text/plain": [
       "[[0, 1, 0, 1, 0, 1, 0, 1],\n",
       " [1, 0, 1, 0, 1, 0, 1, 0],\n",
       " [0, 1, 0, 1, 0, 1, 0, 1],\n",
       " [0, 0, 0, 0, 0, 0, 0, 0],\n",
       " [0, 0, 0, 0, 0, 0, 0, 0],\n",
       " [2, 0, 2, 0, 2, 0, 2, 0],\n",
       " [0, 2, 0, 2, 0, 2, 0, 2],\n",
       " [2, 0, 2, 0, 2, 0, 2, 0]]"
      ]
     },
     "execution_count": 26,
     "metadata": {},
     "output_type": "execute_result"
    }
   ],
   "source": [
    "board_0=make_game_board()\n",
    "board_0"
   ]
  },
  {
   "cell_type": "markdown",
   "metadata": {},
   "source": [
    "Looks good.\n",
    "\n",
    "## Game Rules\n",
    "\n",
    "We note that checkers is a simple game where each (non-king) piece moves forward and to the left or right. So we can specify a move by choosing a piece and picking left or right. A move is simply taking a piece at location `x,y` to a location `x+x_offset,y+y_offset`, where the offsets depend on the player and the choosen direction. We can write a function to compute the offset:"
   ]
  },
  {
   "cell_type": "code",
   "execution_count": 27,
   "metadata": {},
   "outputs": [],
   "source": [
    "left_move=0\n",
    "right_move=1\n",
    "\n",
    "def player_moves(player,direction):\n",
    "    if player==player_1:\n",
    "        if direction==left_move:\n",
    "            return (1,1)\n",
    "        elif direction==right_move:\n",
    "            return (1,-1)\n",
    "    if player==player_2:\n",
    "        if direction==left_move:\n",
    "            return (-1,-1)\n",
    "        elif direction==right_move:\n",
    "            return (-1,1)\n"
   ]
  },
  {
   "cell_type": "markdown",
   "metadata": {},
   "source": [
    "While this fine, we note that the information that this function store can be simply stored in a data object, a list of lists. "
   ]
  },
  {
   "cell_type": "code",
   "execution_count": 28,
   "metadata": {},
   "outputs": [
    {
     "data": {
      "text/plain": [
       "[[(1, 1), (1, -1)], [(-1, -1), (-1, 1)]]"
      ]
     },
     "execution_count": 28,
     "metadata": {},
     "output_type": "execute_result"
    }
   ],
   "source": [
    "player_1_left_move=(1,1)\n",
    "player_1_right_move=(1,-1)\n",
    "\n",
    "player_2_left_move=(-1,-1)\n",
    "player_2_right_move=(-1,1)\n",
    "\n",
    "moves = [[player_1_left_move, player_1_right_move],\n",
    "         [player_2_left_move, player_2_right_move]]\n",
    "\n",
    "moves"
   ]
  },
  {
   "cell_type": "markdown",
   "metadata": {},
   "source": [
    "So we can recall a move simply by:"
   ]
  },
  {
   "cell_type": "code",
   "execution_count": 29,
   "metadata": {},
   "outputs": [
    {
     "data": {
      "text/plain": [
       "(1, -1)"
      ]
     },
     "execution_count": 29,
     "metadata": {},
     "output_type": "execute_result"
    }
   ],
   "source": [
    "moves[player_1-1][right_move]"
   ]
  },
  {
   "cell_type": "markdown",
   "metadata": {},
   "source": [
    "The problem here is that we loose are flexibility of how we indexed players. We can solve this problem using dictionary of dictionaries. "
   ]
  },
  {
   "cell_type": "code",
   "execution_count": 30,
   "metadata": {},
   "outputs": [
    {
     "data": {
      "text/plain": [
       "{1: {0: (1, 1), 1: (1, -1)}, 2: {0: (-1, -1), 1: (-1, 1)}}"
      ]
     },
     "execution_count": 30,
     "metadata": {},
     "output_type": "execute_result"
    }
   ],
   "source": [
    "moves={ player_1: {left_move: player_1_left_move, \n",
    "                   right_move:player_1_right_move},\n",
    "        player_2: {left_move: player_2_left_move, \n",
    "                   right_move: player_2_right_move}}\n",
    "\n",
    "moves"
   ]
  },
  {
   "cell_type": "code",
   "execution_count": 31,
   "metadata": {},
   "outputs": [
    {
     "data": {
      "text/plain": [
       "(1, -1)"
      ]
     },
     "execution_count": 31,
     "metadata": {},
     "output_type": "execute_result"
    }
   ],
   "source": [
    "moves[player_1][right_move]"
   ]
  },
  {
   "cell_type": "markdown",
   "metadata": {},
   "source": [
    "Next let's code up a function that will take a board, player, location of a piece, and desired move and then implements the move. \n",
    "\n",
    "We are going to put in some print statements so we see what is happening, but we don't necessarily want to see these statements all of the time, for example later we may wish to write an artificial intelligence that uses the same function to think about the game, and we  don't necessarily see everything it's thinking. So lets write a function that we can use for printing "
   ]
  },
  {
   "cell_type": "code",
   "execution_count": 32,
   "metadata": {},
   "outputs": [],
   "source": [
    "def print_message(message,verbose=True):\n",
    "    if verbose:\n",
    "        print(message)"
   ]
  },
  {
   "cell_type": "code",
   "execution_count": 33,
   "metadata": {},
   "outputs": [
    {
     "name": "stdout",
     "output_type": "stream",
     "text": [
      "Hello\n"
     ]
    }
   ],
   "source": [
    "print_message(\"Hello\")"
   ]
  },
  {
   "cell_type": "markdown",
   "metadata": {},
   "source": [
    "Now to the heart of the game, a `move_piece` function that will apply game rules to move pieces.  Here's our logic:\n",
    "* Check if player's piece is at location\n",
    "* Fetch the offset for the move\n",
    "* Make sure the move (and possible jump move) is on the board\n",
    "* If the target space empty, move the piece by emptying the starting position placing the piece into the target\n",
    "* If the target space is filled with opponent's piece, but the next space along the diagonal is empty, empty the start, remove the target, and place piece next along diagonal.\n",
    "\n",
    "Moves may be invalid, so if a move is invalid, lets return `False`, otherwise return `True`. "
   ]
  },
  {
   "cell_type": "code",
   "execution_count": 34,
   "metadata": {},
   "outputs": [],
   "source": [
    "def move_piece(board,player,location,move,verbose=True):\n",
    "    x,y=location\n",
    "    \n",
    "    # Check if player's piece is at location\n",
    "    if not board[x][y] == player:\n",
    "        print_message(\"Player does not have piece at location.\",verbose)\n",
    "        return False\n",
    "\n",
    "    # Fetch the offset for the move\n",
    "    x_offset,y_offset = moves[player][move]\n",
    "    \n",
    "    # Make sure the move is on the board:\n",
    "    move_possible= x+x_offset < size and \\\n",
    "                    x+x_offset >= 0 and \\\n",
    "                    y+y_offset < size and \\\n",
    "                    y+y_offset >= 0\n",
    "                \n",
    "                \n",
    "    jump_possible= x+2*x_offset < size and \\\n",
    "                    x+2*x_offset >= 0 and \\\n",
    "                    y+2*y_offset < size and \\\n",
    "                    y+2*y_offset >= 0\n",
    "    \n",
    "    if not (move_possible or jump_possible):\n",
    "        print_message(\"Move is off of board.\",verbose)\n",
    "        return False\n",
    "        \n",
    "    # Try the move\n",
    "    # Is the target space empty\n",
    "    if move_possible and \\\n",
    "        board[x+x_offset][y+y_offset]==empty:\n",
    "    \n",
    "        # Make the move\n",
    "        # Empty the spot\n",
    "        board[x][y]=empty\n",
    "        # Place player in new spot\n",
    "        board[x+x_offset][y+y_offset]=player\n",
    "        print_message(\"Moved.\",verbose)            \n",
    "\n",
    "        return True\n",
    "    # Does the target space have an opponent's piece, and the space after empty\n",
    "    elif jump_possible and \\\n",
    "            board[x+x_offset][y+y_offset]!=player and \\\n",
    "            board[x+2*x_offset][y+2*y_offset]==empty:\n",
    "\n",
    "        # Make the move\n",
    "        # Empty the spot\n",
    "        board[x][y]=empty\n",
    "        # Remove the oppoent's piece\n",
    "        board[x+x_offset][y+y_offset]=empty\n",
    "        # Move player to new spot\n",
    "        board[x+2*x_offset][y+2*y_offset]=player\n",
    "        print_message(\"Took opponent's piece.\",verbose)\n",
    "        \n",
    "        return True\n",
    "    else:\n",
    "        print_message(\"Move not possible.\",verbose)\n",
    "        return False\n"
   ]
  },
  {
   "cell_type": "markdown",
   "metadata": {},
   "source": [
    "Note that we put everything in a single function. In principle, we could have broken up the code into several functions, but if there isn't much reuse of the same code, sometimes breaking things into lots of functions would obefuscate the coder's intent.\n",
    "\n",
    "Let's test our code:"
   ]
  },
  {
   "cell_type": "code",
   "execution_count": 35,
   "metadata": {},
   "outputs": [
    {
     "data": {
      "text/plain": [
       "[[0, 1, 0, 1, 0, 1, 0, 1],\n",
       " [1, 0, 1, 0, 1, 0, 1, 0],\n",
       " [0, 1, 0, 1, 0, 1, 0, 1],\n",
       " [0, 0, 0, 0, 0, 0, 0, 0],\n",
       " [0, 0, 0, 0, 0, 0, 0, 0],\n",
       " [2, 0, 2, 0, 2, 0, 2, 0],\n",
       " [0, 2, 0, 2, 0, 2, 0, 2],\n",
       " [2, 0, 2, 0, 2, 0, 2, 0]]"
      ]
     },
     "execution_count": 35,
     "metadata": {},
     "output_type": "execute_result"
    }
   ],
   "source": [
    "board_0=make_game_board()\n",
    "board_0"
   ]
  },
  {
   "cell_type": "code",
   "execution_count": 36,
   "metadata": {},
   "outputs": [
    {
     "name": "stdout",
     "output_type": "stream",
     "text": [
      "Moved.\n"
     ]
    },
    {
     "data": {
      "text/plain": [
       "[[0, 1, 0, 1, 0, 1, 0, 1],\n",
       " [1, 0, 1, 0, 1, 0, 1, 0],\n",
       " [0, 0, 0, 1, 0, 1, 0, 1],\n",
       " [0, 0, 1, 0, 0, 0, 0, 0],\n",
       " [0, 0, 0, 0, 0, 0, 0, 0],\n",
       " [2, 0, 2, 0, 2, 0, 2, 0],\n",
       " [0, 2, 0, 2, 0, 2, 0, 2],\n",
       " [2, 0, 2, 0, 2, 0, 2, 0]]"
      ]
     },
     "execution_count": 36,
     "metadata": {},
     "output_type": "execute_result"
    }
   ],
   "source": [
    "move_piece(board_0,player_1,(2,1),0)\n",
    "board_0"
   ]
  },
  {
   "cell_type": "code",
   "execution_count": 37,
   "metadata": {},
   "outputs": [
    {
     "name": "stdout",
     "output_type": "stream",
     "text": [
      "Moved.\n"
     ]
    },
    {
     "data": {
      "text/plain": [
       "[[0, 1, 0, 1, 0, 1, 0, 1],\n",
       " [1, 0, 1, 0, 1, 0, 1, 0],\n",
       " [0, 0, 0, 1, 0, 1, 0, 1],\n",
       " [0, 0, 1, 0, 0, 0, 0, 0],\n",
       " [0, 0, 0, 2, 0, 0, 0, 0],\n",
       " [2, 0, 2, 0, 0, 0, 2, 0],\n",
       " [0, 2, 0, 2, 0, 2, 0, 2],\n",
       " [2, 0, 2, 0, 2, 0, 2, 0]]"
      ]
     },
     "execution_count": 37,
     "metadata": {},
     "output_type": "execute_result"
    }
   ],
   "source": [
    "move_piece(board_0,player_2,(5,4),0)\n",
    "board_0"
   ]
  },
  {
   "cell_type": "markdown",
   "metadata": {},
   "source": [
    "Now lets test taking a piece:"
   ]
  },
  {
   "cell_type": "code",
   "execution_count": 38,
   "metadata": {},
   "outputs": [
    {
     "name": "stdout",
     "output_type": "stream",
     "text": [
      "Took opponent's piece.\n"
     ]
    },
    {
     "data": {
      "text/plain": [
       "[[0, 1, 0, 1, 0, 1, 0, 1],\n",
       " [1, 0, 1, 0, 1, 0, 1, 0],\n",
       " [0, 0, 0, 1, 0, 1, 0, 1],\n",
       " [0, 0, 0, 0, 0, 0, 0, 0],\n",
       " [0, 0, 0, 0, 0, 0, 0, 0],\n",
       " [2, 0, 2, 0, 1, 0, 2, 0],\n",
       " [0, 2, 0, 2, 0, 2, 0, 2],\n",
       " [2, 0, 2, 0, 2, 0, 2, 0]]"
      ]
     },
     "execution_count": 38,
     "metadata": {},
     "output_type": "execute_result"
    }
   ],
   "source": [
    "move_piece(board_0,player_1,(3,2),0)\n",
    "board_0"
   ]
  },
  {
   "cell_type": "markdown",
   "metadata": {},
   "source": [
    "Great. We have implemented checkers.\n",
    "\n",
    "## Nicer Output\n",
    "\n",
    "It's hard to \"see\" the game board using a printout of the list of lists. Lets \"draw\" one instead using other characters. \n",
    "\n",
    "First lets define what characters represent each type of space:"
   ]
  },
  {
   "cell_type": "code",
   "execution_count": 39,
   "metadata": {},
   "outputs": [],
   "source": [
    "player_1_piece=\"X\"\n",
    "player_2_piece=\"O\"\n",
    "empty_space=\" \""
   ]
  },
  {
   "cell_type": "markdown",
   "metadata": {},
   "source": [
    "Next lets define a function that will return the right character given:"
   ]
  },
  {
   "cell_type": "code",
   "execution_count": 40,
   "metadata": {},
   "outputs": [],
   "source": [
    "def space_character(player):\n",
    "    if player==player_1:\n",
    "        return player_1_piece\n",
    "    elif player==player_2:\n",
    "        return player_2_piece\n",
    "    else:\n",
    "        return empty_space"
   ]
  },
  {
   "cell_type": "markdown",
   "metadata": {},
   "source": [
    "Actually, recalling earlier, we can do this much nicer with a dictionary:"
   ]
  },
  {
   "cell_type": "code",
   "execution_count": 41,
   "metadata": {},
   "outputs": [
    {
     "data": {
      "text/plain": [
       "{1: 'X', 2: 'O', 0: ' '}"
      ]
     },
     "execution_count": 41,
     "metadata": {},
     "output_type": "execute_result"
    }
   ],
   "source": [
    "space_character= { player_1: player_1_piece,\n",
    "                    player_2: player_2_piece,\n",
    "                    empty: empty_space }\n",
    "\n",
    "space_character"
   ]
  },
  {
   "cell_type": "markdown",
   "metadata": {},
   "source": [
    "Now we can print our board by looping over its matrix representation and using `print` to write the correct characters in the right spot.\n",
    "\n",
    "Note the dangling \",\" on the `print` line keeps the cursor from going to the next line when we don't want it to do so. We'll use an empty `print` to get to the next line when we do."
   ]
  },
  {
   "cell_type": "code",
   "execution_count": 42,
   "metadata": {},
   "outputs": [],
   "source": [
    "def draw_board(board):\n",
    "    for i in range(size):\n",
    "        for j in range(size):\n",
    "            print(space_character[board[i][j]],end=\" \")\n",
    "        print()"
   ]
  },
  {
   "cell_type": "code",
   "execution_count": 43,
   "metadata": {},
   "outputs": [
    {
     "name": "stdout",
     "output_type": "stream",
     "text": [
      "  X   X   X   X \n",
      "X   X   X   X   \n",
      "      X   X   X \n",
      "                \n",
      "                \n",
      "O   O   X   O   \n",
      "  O   O   O   O \n",
      "O   O   O   O   \n"
     ]
    }
   ],
   "source": [
    "draw_board(board_0)"
   ]
  },
  {
   "cell_type": "markdown",
   "metadata": {},
   "source": [
    "It'll be hard for a player to determine the position of the pieces by index, so lets adopt a scheme where the rows are specified by a letter and the row by a number. Let's also change our `draw_board` to put this information on the board. "
   ]
  },
  {
   "cell_type": "code",
   "execution_count": 44,
   "metadata": {},
   "outputs": [
    {
     "data": {
      "text/plain": [
       "{'A': 0, 'B': 1, 'C': 2, 'D': 3, 'E': 4, 'F': 5, 'G': 6, 'H': 7}"
      ]
     },
     "execution_count": 44,
     "metadata": {},
     "output_type": "execute_result"
    }
   ],
   "source": [
    "row_names=list(\"ABCDEFGHIJKLMNOPQRSTUVWXYZ\")\n",
    "row_map=dict(zip(row_names,range(size)))\n",
    "\n",
    "row_map"
   ]
  },
  {
   "cell_type": "markdown",
   "metadata": {},
   "source": [
    "Note the use of zip, as demonstrated in the previous lecture. Let's do the same for the columns. Here we'll use map to turn a list of numbers to a list of strings: "
   ]
  },
  {
   "cell_type": "code",
   "execution_count": 45,
   "metadata": {},
   "outputs": [
    {
     "data": {
      "text/plain": [
       "{'1': 0, '2': 1, '3': 2, '4': 3, '5': 4, '6': 5, '7': 6, '8': 7}"
      ]
     },
     "execution_count": 45,
     "metadata": {},
     "output_type": "execute_result"
    }
   ],
   "source": [
    "column_names=list(map(str,range(1,size+1)))\n",
    "column_map=dict(zip(column_names,range(size)))\n",
    "\n",
    "column_map"
   ]
  },
  {
   "cell_type": "markdown",
   "metadata": {},
   "source": [
    "Now lets draw our new board:"
   ]
  },
  {
   "cell_type": "code",
   "execution_count": 46,
   "metadata": {},
   "outputs": [],
   "source": [
    "def draw_board(board):\n",
    "    print(\" \",end=\" \")\n",
    "    for j in range(8):\n",
    "        print(column_names[j],end=\" \")\n",
    "    print()\n",
    "    \n",
    "    for i in range(8):\n",
    "        print(row_names[i],end=\" \")\n",
    "        for j in range(8):\n",
    "            print(space_character[board[i][j]],end=\" \")\n",
    "        print()"
   ]
  },
  {
   "cell_type": "code",
   "execution_count": 47,
   "metadata": {},
   "outputs": [
    {
     "name": "stdout",
     "output_type": "stream",
     "text": [
      "  1 2 3 4 5 6 7 8 \n",
      "A   X   X   X   X \n",
      "B X   X   X   X   \n",
      "C       X   X   X \n",
      "D                 \n",
      "E                 \n",
      "F O   O   X   O   \n",
      "G   O   O   O   O \n",
      "H O   O   O   O   \n"
     ]
    }
   ],
   "source": [
    "draw_board(board_0)"
   ]
  },
  {
   "cell_type": "markdown",
   "metadata": {},
   "source": [
    "Much nicer. \n",
    "\n",
    "But now the user will give us locations like \"C3\" and we'll have to convert it to a pair of indexes for the matrix. These are stored in the `row_map` and `column_map` dictionaries, but we can't trust the user to correctly supply an input, so lets be careful by checking the type of input, length, and making sure it's upper case:"
   ]
  },
  {
   "cell_type": "code",
   "execution_count": 48,
   "metadata": {},
   "outputs": [],
   "source": [
    "def parse_location(l_string):\n",
    "    if not isinstance(l_string,str):\n",
    "        print_message(\"Bad Input. Location must be string.\")\n",
    "        return False\n",
    "    \n",
    "    if len(l_string)!=2:\n",
    "        print_message(\"Bad Input. Location must be 2 characters.\")\n",
    "        return False\n",
    "    \n",
    "    row=l_string[0].upper()\n",
    "    col=l_string[1].upper()\n",
    "    \n",
    "    if not row in row_names:\n",
    "        print_message(\"Bad Row.\")\n",
    "        return False\n",
    "\n",
    "    if not col in column_names:\n",
    "        print_message(\"Bad Column.\")\n",
    "        return False\n",
    "\n",
    "    return row_map[row],column_map[col]\n",
    "    "
   ]
  },
  {
   "cell_type": "markdown",
   "metadata": {},
   "source": [
    "Test our code:"
   ]
  },
  {
   "cell_type": "code",
   "execution_count": 49,
   "metadata": {},
   "outputs": [
    {
     "data": {
      "text/plain": [
       "(2, 3)"
      ]
     },
     "execution_count": 49,
     "metadata": {},
     "output_type": "execute_result"
    }
   ],
   "source": [
    "parse_location(\"C4\")"
   ]
  },
  {
   "cell_type": "markdown",
   "metadata": {},
   "source": [
    "Similarily setup things so the user can specify \"L\" or \"R\" for the moves:"
   ]
  },
  {
   "cell_type": "code",
   "execution_count": 50,
   "metadata": {},
   "outputs": [],
   "source": [
    "def parse_move(m_string):\n",
    "    if not isinstance(m_string,str):\n",
    "        print_message(\"Bad Input. Location must be string.\")\n",
    "        return -1\n",
    "    \n",
    "    if len(m_string)!=1:\n",
    "        print_message(\"Bad Input. Location must be 1 character.\")\n",
    "        return -1\n",
    "    \n",
    "    if m_string.upper()==\"L\":\n",
    "        return left_move\n",
    "\n",
    "    if m_string.upper()==\"R\":\n",
    "        return right_move\n",
    "\n",
    "    print_message(\"Bad Move. must be R/L.\")\n",
    "    \n",
    "    return -1\n"
   ]
  },
  {
   "cell_type": "code",
   "execution_count": 51,
   "metadata": {},
   "outputs": [],
   "source": [
    "def nice_move_piece(board,player,location,move):\n",
    "    loc=parse_location(location)\n",
    "    mov=parse_move(move)\n",
    "\n",
    "    if loc and mov!=-1:\n",
    "        return move_piece(board,player,loc,mov)\n",
    "    else:\n",
    "        return print_message(\"Bad move.\")\n"
   ]
  },
  {
   "cell_type": "markdown",
   "metadata": {},
   "source": [
    "And finally test again:"
   ]
  },
  {
   "cell_type": "code",
   "execution_count": 52,
   "metadata": {},
   "outputs": [
    {
     "name": "stdout",
     "output_type": "stream",
     "text": [
      "  1 2 3 4 5 6 7 8 \n",
      "A   X   X   X   X \n",
      "B X   X   X   X   \n",
      "C   X   X   X   X \n",
      "D                 \n",
      "E                 \n",
      "F O   O   O   O   \n",
      "G   O   O   O   O \n",
      "H O   O   O   O   \n",
      "Moved.\n",
      "  1 2 3 4 5 6 7 8 \n",
      "A   X   X   X   X \n",
      "B X   X   X   X   \n",
      "C   X       X   X \n",
      "D         X       \n",
      "E                 \n",
      "F O   O   O   O   \n",
      "G   O   O   O   O \n",
      "H O   O   O   O   \n"
     ]
    }
   ],
   "source": [
    "board_0=make_game_board()\n",
    "draw_board(board_0)\n",
    "nice_move_piece(board_0,player_1,\"C4\",\"L\")\n",
    "draw_board(board_0)"
   ]
  },
  {
   "cell_type": "markdown",
   "metadata": {},
   "source": [
    "## A Game Program"
   ]
  },
  {
   "cell_type": "markdown",
   "metadata": {},
   "source": [
    "Next we don't want the player to be making python calls, the game should show each player the board and ask for input. They should just enter a position and a direction. And the game should keep going until someone wins.\n",
    "\n",
    "We'll use python's `input` to interact with the player:"
   ]
  },
  {
   "cell_type": "code",
   "execution_count": 53,
   "metadata": {},
   "outputs": [],
   "source": [
    "def take_move(board,player):\n",
    "    good_move=False\n",
    "    \n",
    "    while not good_move:\n",
    "        loc_str =input(\"Input location:\")\n",
    "        mov_str =input(\"Input move (L/R):\")\n",
    "            \n",
    "        good_move = nice_move_piece(board,player,loc_str,mov_str)"
   ]
  },
  {
   "cell_type": "markdown",
   "metadata": {},
   "source": [
    "Lets test this function with a single move before moving on (use \"C4\" and \"L\"):"
   ]
  },
  {
   "cell_type": "code",
   "execution_count": 54,
   "metadata": {},
   "outputs": [
    {
     "name": "stdout",
     "output_type": "stream",
     "text": [
      "  1 2 3 4 5 6 7 8 \n",
      "A   X   X   X   X \n",
      "B X   X   X   X   \n",
      "C   X   X   X   X \n",
      "D                 \n",
      "E                 \n",
      "F O   O   O   O   \n",
      "G   O   O   O   O \n",
      "H O   O   O   O   \n",
      "Input location:C3\n",
      "Input move (L/R):L\n",
      "Player does not have piece at location.\n",
      "Input location:C2\n",
      "Input move (L/R):R\n",
      "Moved.\n",
      "  1 2 3 4 5 6 7 8 \n",
      "A   X   X   X   X \n",
      "B X   X   X   X   \n",
      "C       X   X   X \n",
      "D X               \n",
      "E                 \n",
      "F O   O   O   O   \n",
      "G   O   O   O   O \n",
      "H O   O   O   O   \n"
     ]
    }
   ],
   "source": [
    "board_0=make_game_board()\n",
    "draw_board(board_0)\n",
    "take_move(board_0,player_1)\n",
    "draw_board(board_0)"
   ]
  },
  {
   "cell_type": "markdown",
   "metadata": {},
   "source": [
    "Now lets write a function that determines if the game is won, so it can stop:"
   ]
  },
  {
   "cell_type": "code",
   "execution_count": 55,
   "metadata": {},
   "outputs": [],
   "source": [
    "def count_pieces(board,player):\n",
    "    n=0\n",
    "    for i in range(size):\n",
    "        for j in range(size):\n",
    "            if board[i][j]==player:\n",
    "                n+=1                \n",
    "    return n\n",
    "\n",
    "\n",
    "def game_won(board):\n",
    "    player_1_n=count_pieces(board,player_1)\n",
    "    player_2_n=count_pieces(board,player_2)\n",
    "\n",
    "    if player_1_n==0:\n",
    "        return player_2\n",
    "    if player_1_n==0:\n",
    "        return player_1\n",
    "\n",
    "    return False\n"
   ]
  },
  {
   "cell_type": "markdown",
   "metadata": {},
   "source": [
    "Pulling all of these functions together, we get a basic checkers game. Note that it doesn't handle king pieces. And it won't realize when the game is a stale mate. "
   ]
  },
  {
   "cell_type": "code",
   "execution_count": 56,
   "metadata": {},
   "outputs": [],
   "source": [
    "def checkers_game():\n",
    "    \n",
    "    print (\"Welcome to Checkers.\")\n",
    "    print (\"--------------------\")\n",
    "\n",
    "    # Make a game board\n",
    "    board_0=make_game_board()\n",
    "    \n",
    "    # Start with player 1\n",
    "    player=player_1\n",
    "    \n",
    "    this_game_won=False\n",
    "    while not this_game_won:\n",
    "        # Draw the board\n",
    "        draw_board(board_0)\n",
    "        \n",
    "        # Make a move\n",
    "        print(\"Player\",player,\"move:\")\n",
    "        take_move(board_0,player)\n",
    "\n",
    "        # Check if the game has been won\n",
    "        this_game_won=game_won(board_0)\n",
    "\n",
    "        # Switch players\n",
    "        if player==player_1:\n",
    "            player=player_2\n",
    "        else:\n",
    "            player=player_1\n",
    "            \n",
    "        \n",
    "    print(\"Winner is player:\",this_game_won)\n",
    "          "
   ]
  },
  {
   "cell_type": "code",
   "execution_count": 57,
   "metadata": {},
   "outputs": [
    {
     "name": "stdout",
     "output_type": "stream",
     "text": [
      "Welcome to Checkers.\n",
      "--------------------\n",
      "  1 2 3 4 5 6 7 8 \n",
      "A   X   X   X   X \n",
      "B X   X   X   X   \n",
      "C   X   X   X   X \n",
      "D                 \n",
      "E                 \n",
      "F O   O   O   O   \n",
      "G   O   O   O   O \n",
      "H O   O   O   O   \n",
      "Player 1 move:\n",
      "Input location:\n",
      "Input move (L/R):\n",
      "Bad Input. Location must be 2 characters.\n",
      "Bad Input. Location must be 1 character.\n",
      "Bad move.\n",
      "Input location:C2\n",
      "Input move (L/R):L\n",
      "Moved.\n",
      "  1 2 3 4 5 6 7 8 \n",
      "A   X   X   X   X \n",
      "B X   X   X   X   \n",
      "C       X   X   X \n",
      "D     X           \n",
      "E                 \n",
      "F O   O   O   O   \n",
      "G   O   O   O   O \n",
      "H O   O   O   O   \n",
      "Player 2 move:\n",
      "Input location:F3\n",
      "Input move (L/R):R\n",
      "Moved.\n",
      "  1 2 3 4 5 6 7 8 \n",
      "A   X   X   X   X \n",
      "B X   X   X   X   \n",
      "C       X   X   X \n",
      "D     X           \n",
      "E       O         \n",
      "F O       O   O   \n",
      "G   O   O   O   O \n",
      "H O   O   O   O   \n",
      "Player 1 move:\n"
     ]
    },
    {
     "ename": "KeyboardInterrupt",
     "evalue": "",
     "output_type": "error",
     "traceback": [
      "\u001b[0;31m---------------------------------------------------------------------------\u001b[0m",
      "\u001b[0;31mKeyboardInterrupt\u001b[0m                         Traceback (most recent call last)",
      "\u001b[0;32m/Library/Frameworks/Python.framework/Versions/3.8/lib/python3.8/site-packages/ipykernel/kernelbase.py\u001b[0m in \u001b[0;36m_input_request\u001b[0;34m(self, prompt, ident, parent, password)\u001b[0m\n\u001b[1;32m    883\u001b[0m             \u001b[0;32mtry\u001b[0m\u001b[0;34m:\u001b[0m\u001b[0;34m\u001b[0m\u001b[0;34m\u001b[0m\u001b[0m\n\u001b[0;32m--> 884\u001b[0;31m                 \u001b[0mident\u001b[0m\u001b[0;34m,\u001b[0m \u001b[0mreply\u001b[0m \u001b[0;34m=\u001b[0m \u001b[0mself\u001b[0m\u001b[0;34m.\u001b[0m\u001b[0msession\u001b[0m\u001b[0;34m.\u001b[0m\u001b[0mrecv\u001b[0m\u001b[0;34m(\u001b[0m\u001b[0mself\u001b[0m\u001b[0;34m.\u001b[0m\u001b[0mstdin_socket\u001b[0m\u001b[0;34m,\u001b[0m \u001b[0;36m0\u001b[0m\u001b[0;34m)\u001b[0m\u001b[0;34m\u001b[0m\u001b[0;34m\u001b[0m\u001b[0m\n\u001b[0m\u001b[1;32m    885\u001b[0m             \u001b[0;32mexcept\u001b[0m \u001b[0mException\u001b[0m\u001b[0;34m:\u001b[0m\u001b[0;34m\u001b[0m\u001b[0;34m\u001b[0m\u001b[0m\n",
      "\u001b[0;32m/Library/Frameworks/Python.framework/Versions/3.8/lib/python3.8/site-packages/jupyter_client/session.py\u001b[0m in \u001b[0;36mrecv\u001b[0;34m(self, socket, mode, content, copy)\u001b[0m\n\u001b[1;32m    802\u001b[0m         \u001b[0;32mtry\u001b[0m\u001b[0;34m:\u001b[0m\u001b[0;34m\u001b[0m\u001b[0;34m\u001b[0m\u001b[0m\n\u001b[0;32m--> 803\u001b[0;31m             \u001b[0mmsg_list\u001b[0m \u001b[0;34m=\u001b[0m \u001b[0msocket\u001b[0m\u001b[0;34m.\u001b[0m\u001b[0mrecv_multipart\u001b[0m\u001b[0;34m(\u001b[0m\u001b[0mmode\u001b[0m\u001b[0;34m,\u001b[0m \u001b[0mcopy\u001b[0m\u001b[0;34m=\u001b[0m\u001b[0mcopy\u001b[0m\u001b[0;34m)\u001b[0m\u001b[0;34m\u001b[0m\u001b[0;34m\u001b[0m\u001b[0m\n\u001b[0m\u001b[1;32m    804\u001b[0m         \u001b[0;32mexcept\u001b[0m \u001b[0mzmq\u001b[0m\u001b[0;34m.\u001b[0m\u001b[0mZMQError\u001b[0m \u001b[0;32mas\u001b[0m \u001b[0me\u001b[0m\u001b[0;34m:\u001b[0m\u001b[0;34m\u001b[0m\u001b[0;34m\u001b[0m\u001b[0m\n",
      "\u001b[0;32m/Library/Frameworks/Python.framework/Versions/3.8/lib/python3.8/site-packages/zmq/sugar/socket.py\u001b[0m in \u001b[0;36mrecv_multipart\u001b[0;34m(self, flags, copy, track)\u001b[0m\n\u001b[1;32m    474\u001b[0m         \"\"\"\n\u001b[0;32m--> 475\u001b[0;31m         \u001b[0mparts\u001b[0m \u001b[0;34m=\u001b[0m \u001b[0;34m[\u001b[0m\u001b[0mself\u001b[0m\u001b[0;34m.\u001b[0m\u001b[0mrecv\u001b[0m\u001b[0;34m(\u001b[0m\u001b[0mflags\u001b[0m\u001b[0;34m,\u001b[0m \u001b[0mcopy\u001b[0m\u001b[0;34m=\u001b[0m\u001b[0mcopy\u001b[0m\u001b[0;34m,\u001b[0m \u001b[0mtrack\u001b[0m\u001b[0;34m=\u001b[0m\u001b[0mtrack\u001b[0m\u001b[0;34m)\u001b[0m\u001b[0;34m]\u001b[0m\u001b[0;34m\u001b[0m\u001b[0;34m\u001b[0m\u001b[0m\n\u001b[0m\u001b[1;32m    476\u001b[0m         \u001b[0;31m# have first part already, only loop while more to receive\u001b[0m\u001b[0;34m\u001b[0m\u001b[0;34m\u001b[0m\u001b[0;34m\u001b[0m\u001b[0m\n",
      "\u001b[0;32mzmq/backend/cython/socket.pyx\u001b[0m in \u001b[0;36mzmq.backend.cython.socket.Socket.recv\u001b[0;34m()\u001b[0m\n",
      "\u001b[0;32mzmq/backend/cython/socket.pyx\u001b[0m in \u001b[0;36mzmq.backend.cython.socket.Socket.recv\u001b[0;34m()\u001b[0m\n",
      "\u001b[0;32mzmq/backend/cython/socket.pyx\u001b[0m in \u001b[0;36mzmq.backend.cython.socket._recv_copy\u001b[0;34m()\u001b[0m\n",
      "\u001b[0;32m/Library/Frameworks/Python.framework/Versions/3.8/lib/python3.8/site-packages/zmq/backend/cython/checkrc.pxd\u001b[0m in \u001b[0;36mzmq.backend.cython.checkrc._check_rc\u001b[0;34m()\u001b[0m\n",
      "\u001b[0;31mKeyboardInterrupt\u001b[0m: ",
      "\nDuring handling of the above exception, another exception occurred:\n",
      "\u001b[0;31mKeyboardInterrupt\u001b[0m                         Traceback (most recent call last)",
      "\u001b[0;32m<ipython-input-57-9b5238d82794>\u001b[0m in \u001b[0;36m<module>\u001b[0;34m\u001b[0m\n\u001b[0;32m----> 1\u001b[0;31m \u001b[0mcheckers_game\u001b[0m\u001b[0;34m(\u001b[0m\u001b[0;34m)\u001b[0m\u001b[0;34m\u001b[0m\u001b[0;34m\u001b[0m\u001b[0m\n\u001b[0m",
      "\u001b[0;32m<ipython-input-56-531a85a1e028>\u001b[0m in \u001b[0;36mcheckers_game\u001b[0;34m()\u001b[0m\n\u001b[1;32m     17\u001b[0m         \u001b[0;31m# Make a move\u001b[0m\u001b[0;34m\u001b[0m\u001b[0;34m\u001b[0m\u001b[0;34m\u001b[0m\u001b[0m\n\u001b[1;32m     18\u001b[0m         \u001b[0mprint\u001b[0m\u001b[0;34m(\u001b[0m\u001b[0;34m\"Player\"\u001b[0m\u001b[0;34m,\u001b[0m\u001b[0mplayer\u001b[0m\u001b[0;34m,\u001b[0m\u001b[0;34m\"move:\"\u001b[0m\u001b[0;34m)\u001b[0m\u001b[0;34m\u001b[0m\u001b[0;34m\u001b[0m\u001b[0m\n\u001b[0;32m---> 19\u001b[0;31m         \u001b[0mtake_move\u001b[0m\u001b[0;34m(\u001b[0m\u001b[0mboard_0\u001b[0m\u001b[0;34m,\u001b[0m\u001b[0mplayer\u001b[0m\u001b[0;34m)\u001b[0m\u001b[0;34m\u001b[0m\u001b[0;34m\u001b[0m\u001b[0m\n\u001b[0m\u001b[1;32m     20\u001b[0m \u001b[0;34m\u001b[0m\u001b[0m\n\u001b[1;32m     21\u001b[0m         \u001b[0;31m# Check if the game has been won\u001b[0m\u001b[0;34m\u001b[0m\u001b[0;34m\u001b[0m\u001b[0;34m\u001b[0m\u001b[0m\n",
      "\u001b[0;32m<ipython-input-53-ee432b00a7d6>\u001b[0m in \u001b[0;36mtake_move\u001b[0;34m(board, player)\u001b[0m\n\u001b[1;32m      3\u001b[0m \u001b[0;34m\u001b[0m\u001b[0m\n\u001b[1;32m      4\u001b[0m     \u001b[0;32mwhile\u001b[0m \u001b[0;32mnot\u001b[0m \u001b[0mgood_move\u001b[0m\u001b[0;34m:\u001b[0m\u001b[0;34m\u001b[0m\u001b[0;34m\u001b[0m\u001b[0m\n\u001b[0;32m----> 5\u001b[0;31m         \u001b[0mloc_str\u001b[0m \u001b[0;34m=\u001b[0m\u001b[0minput\u001b[0m\u001b[0;34m(\u001b[0m\u001b[0;34m\"Input location:\"\u001b[0m\u001b[0;34m)\u001b[0m\u001b[0;34m\u001b[0m\u001b[0;34m\u001b[0m\u001b[0m\n\u001b[0m\u001b[1;32m      6\u001b[0m         \u001b[0mmov_str\u001b[0m \u001b[0;34m=\u001b[0m\u001b[0minput\u001b[0m\u001b[0;34m(\u001b[0m\u001b[0;34m\"Input move (L/R):\"\u001b[0m\u001b[0;34m)\u001b[0m\u001b[0;34m\u001b[0m\u001b[0;34m\u001b[0m\u001b[0m\n\u001b[1;32m      7\u001b[0m \u001b[0;34m\u001b[0m\u001b[0m\n",
      "\u001b[0;32m/Library/Frameworks/Python.framework/Versions/3.8/lib/python3.8/site-packages/ipykernel/kernelbase.py\u001b[0m in \u001b[0;36mraw_input\u001b[0;34m(self, prompt)\u001b[0m\n\u001b[1;32m    854\u001b[0m                 \u001b[0;34m\"raw_input was called, but this frontend does not support input requests.\"\u001b[0m\u001b[0;34m\u001b[0m\u001b[0;34m\u001b[0m\u001b[0m\n\u001b[1;32m    855\u001b[0m             )\n\u001b[0;32m--> 856\u001b[0;31m         return self._input_request(str(prompt),\n\u001b[0m\u001b[1;32m    857\u001b[0m             \u001b[0mself\u001b[0m\u001b[0;34m.\u001b[0m\u001b[0m_parent_ident\u001b[0m\u001b[0;34m,\u001b[0m\u001b[0;34m\u001b[0m\u001b[0;34m\u001b[0m\u001b[0m\n\u001b[1;32m    858\u001b[0m             \u001b[0mself\u001b[0m\u001b[0;34m.\u001b[0m\u001b[0m_parent_header\u001b[0m\u001b[0;34m,\u001b[0m\u001b[0;34m\u001b[0m\u001b[0;34m\u001b[0m\u001b[0m\n",
      "\u001b[0;32m/Library/Frameworks/Python.framework/Versions/3.8/lib/python3.8/site-packages/ipykernel/kernelbase.py\u001b[0m in \u001b[0;36m_input_request\u001b[0;34m(self, prompt, ident, parent, password)\u001b[0m\n\u001b[1;32m    887\u001b[0m             \u001b[0;32mexcept\u001b[0m \u001b[0mKeyboardInterrupt\u001b[0m\u001b[0;34m:\u001b[0m\u001b[0;34m\u001b[0m\u001b[0;34m\u001b[0m\u001b[0m\n\u001b[1;32m    888\u001b[0m                 \u001b[0;31m# re-raise KeyboardInterrupt, to truncate traceback\u001b[0m\u001b[0;34m\u001b[0m\u001b[0;34m\u001b[0m\u001b[0;34m\u001b[0m\u001b[0m\n\u001b[0;32m--> 889\u001b[0;31m                 \u001b[0;32mraise\u001b[0m \u001b[0mKeyboardInterrupt\u001b[0m\u001b[0;34m\u001b[0m\u001b[0;34m\u001b[0m\u001b[0m\n\u001b[0m\u001b[1;32m    890\u001b[0m             \u001b[0;32melse\u001b[0m\u001b[0;34m:\u001b[0m\u001b[0;34m\u001b[0m\u001b[0;34m\u001b[0m\u001b[0m\n\u001b[1;32m    891\u001b[0m                 \u001b[0;32mbreak\u001b[0m\u001b[0;34m\u001b[0m\u001b[0;34m\u001b[0m\u001b[0m\n",
      "\u001b[0;31mKeyboardInterrupt\u001b[0m: "
     ]
    }
   ],
   "source": [
    "checkers_game()"
   ]
  },
  {
   "cell_type": "code",
   "execution_count": null,
   "metadata": {},
   "outputs": [],
   "source": []
  }
 ],
 "metadata": {
  "kernelspec": {
   "display_name": "Python 3",
   "language": "python",
   "name": "python3"
  }
 },
 "nbformat": 4,
 "nbformat_minor": 2
}
