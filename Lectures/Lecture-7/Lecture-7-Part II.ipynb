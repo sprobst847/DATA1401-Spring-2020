{
 "cells": [
  {
   "cell_type": "markdown",
   "metadata": {},
   "source": [
    "# Lecture 7"
   ]
  },
  {
   "cell_type": "markdown",
   "metadata": {
    "collapsed": true
   },
   "source": [
    "In this lecture, we will introduce a few other aspects of python that can be very powerful. The next leaps in power will come when we introduce object oriented programming. \n",
    "\n",
    "## None Type\n",
    "\n",
    "There is one python built-in datatype that we haven't explored yet: `None`. None represents a null or no value at all. It is not the same as 0, `False`, or empty string. And it has it's own type (`NoneType`).\n",
    "\n",
    "Some Examples:"
   ]
  },
  {
   "cell_type": "code",
   "execution_count": 1,
   "metadata": {},
   "outputs": [
    {
     "name": "stdout",
     "output_type": "stream",
     "text": [
      "None: None\n",
      "None is not True!\n"
     ]
    },
    {
     "data": {
      "text/plain": [
       "[None]"
      ]
     },
     "execution_count": 1,
     "metadata": {},
     "output_type": "execute_result"
    }
   ],
   "source": [
    "x = None\n",
    "\n",
    "print (\"None:\",x)\n",
    "\n",
    "if x:\n",
    "    print (\"None is True!\")\n",
    "else:\n",
    "    print( \"None is not True!\")\n",
    "\n",
    "# A list with None in it\n",
    "[x]"
   ]
  },
  {
   "cell_type": "markdown",
   "metadata": {},
   "source": [
    "Also note that comparing None to anything except None will return False:"
   ]
  },
  {
   "cell_type": "code",
   "execution_count": 2,
   "metadata": {},
   "outputs": [
    {
     "name": "stdout",
     "output_type": "stream",
     "text": [
      "None test: True\n",
      "String test: False\n",
      "Number test: False\n",
      "List test: False\n"
     ]
    }
   ],
   "source": [
    "print (\"None test:\", None == None)\n",
    "print (\"String test:\", \"a string\" == None)\n",
    "print (\"Number test:\", 1 == None)\n",
    "print (\"List test:\", [None]==None)"
   ]
  },
  {
   "cell_type": "markdown",
   "metadata": {},
   "source": [
    "Note that since `None` is not true, so often times it is used in if statements to check if a value is set for something. For example:"
   ]
  },
  {
   "cell_type": "code",
   "execution_count": 3,
   "metadata": {
    "scrolled": true
   },
   "outputs": [
    {
     "name": "stdout",
     "output_type": "stream",
     "text": [
      "x is not set\n",
      "2\n"
     ]
    }
   ],
   "source": [
    "def my_func(x=None):\n",
    "    if x:\n",
    "        print (x+1)\n",
    "    else:\n",
    "        print (\"x is not set\")\n",
    "        \n",
    "my_func()\n",
    "\n",
    "my_func(1)"
   ]
  },
  {
   "cell_type": "markdown",
   "metadata": {},
   "source": [
    "## Variable Argument Type Functions \n",
    "\n",
    "Since python is late binding, the type of any variable is only relevant at the time of its usage, so you can write functions that behave differently based on the type of the variable. \n",
    "\n",
    "For example:"
   ]
  },
  {
   "cell_type": "code",
   "execution_count": 4,
   "metadata": {},
   "outputs": [],
   "source": [
    "def always_extend(list1,obj):\n",
    "    if isinstance(obj,list):\n",
    "        list1.extend(obj)\n",
    "    else:\n",
    "        list1.append(obj)\n",
    "        \n",
    "    return list1"
   ]
  },
  {
   "cell_type": "code",
   "execution_count": 5,
   "metadata": {},
   "outputs": [
    {
     "name": "stdout",
     "output_type": "stream",
     "text": [
      "[1, 2, 3, 4, 5, 6]\n",
      "[1, 2, 3, 5]\n"
     ]
    }
   ],
   "source": [
    "print (always_extend([1,2,3],[4,5,6]))\n",
    "print (always_extend([1,2,3],5))"
   ]
  },
  {
   "cell_type": "markdown",
   "metadata": {},
   "source": [
    "### Error Handling\n",
    "\n",
    "Error handling is a advance part of many languages. In python it is an acceptable usage pattern for checking the type of objects. Lets say you want a part of your code to add a number to another number correctly, even when one number is in string form.\n",
    "\n",
    "Here's an example of a failure. Note the error."
   ]
  },
  {
   "cell_type": "code",
   "execution_count": 6,
   "metadata": {},
   "outputs": [
    {
     "ename": "TypeError",
     "evalue": "unsupported operand type(s) for +: 'int' and 'str'",
     "output_type": "error",
     "traceback": [
      "\u001b[0;31m---------------------------------------------------------------------------\u001b[0m",
      "\u001b[0;31mTypeError\u001b[0m                                 Traceback (most recent call last)",
      "\u001b[0;32m<ipython-input-6-60b08fa009a0>\u001b[0m in \u001b[0;36m<module>\u001b[0;34m\u001b[0m\n\u001b[1;32m      2\u001b[0m     \u001b[0;32mreturn\u001b[0m \u001b[0mnumber\u001b[0m\u001b[0;34m+\u001b[0m\u001b[0mobj\u001b[0m\u001b[0;34m\u001b[0m\u001b[0;34m\u001b[0m\u001b[0m\n\u001b[1;32m      3\u001b[0m \u001b[0;34m\u001b[0m\u001b[0m\n\u001b[0;32m----> 4\u001b[0;31m \u001b[0malways_add\u001b[0m\u001b[0;34m(\u001b[0m\u001b[0;36m1\u001b[0m\u001b[0;34m,\u001b[0m\u001b[0;34m\"2\"\u001b[0m\u001b[0;34m)\u001b[0m\u001b[0;34m\u001b[0m\u001b[0;34m\u001b[0m\u001b[0m\n\u001b[0m",
      "\u001b[0;32m<ipython-input-6-60b08fa009a0>\u001b[0m in \u001b[0;36malways_add\u001b[0;34m(number, obj)\u001b[0m\n\u001b[1;32m      1\u001b[0m \u001b[0;32mdef\u001b[0m \u001b[0malways_add\u001b[0m\u001b[0;34m(\u001b[0m\u001b[0mnumber\u001b[0m\u001b[0;34m,\u001b[0m\u001b[0mobj\u001b[0m\u001b[0;34m)\u001b[0m\u001b[0;34m:\u001b[0m\u001b[0;34m\u001b[0m\u001b[0;34m\u001b[0m\u001b[0m\n\u001b[0;32m----> 2\u001b[0;31m     \u001b[0;32mreturn\u001b[0m \u001b[0mnumber\u001b[0m\u001b[0;34m+\u001b[0m\u001b[0mobj\u001b[0m\u001b[0;34m\u001b[0m\u001b[0;34m\u001b[0m\u001b[0m\n\u001b[0m\u001b[1;32m      3\u001b[0m \u001b[0;34m\u001b[0m\u001b[0m\n\u001b[1;32m      4\u001b[0m \u001b[0malways_add\u001b[0m\u001b[0;34m(\u001b[0m\u001b[0;36m1\u001b[0m\u001b[0;34m,\u001b[0m\u001b[0;34m\"2\"\u001b[0m\u001b[0;34m)\u001b[0m\u001b[0;34m\u001b[0m\u001b[0;34m\u001b[0m\u001b[0m\n",
      "\u001b[0;31mTypeError\u001b[0m: unsupported operand type(s) for +: 'int' and 'str'"
     ]
    }
   ],
   "source": [
    "def always_add(number,obj):\n",
    "    return number+obj\n",
    "\n",
    "always_add(1,\"2\")"
   ]
  },
  {
   "cell_type": "code",
   "execution_count": 7,
   "metadata": {},
   "outputs": [
    {
     "data": {
      "text/plain": [
       "3.0"
      ]
     },
     "execution_count": 7,
     "metadata": {},
     "output_type": "execute_result"
    }
   ],
   "source": [
    "def always_add(number,obj):\n",
    "    try:\n",
    "        return number+obj\n",
    "    except TypeError:\n",
    "        return number+float(obj)\n",
    "\n",
    "always_add(1,\"2\")"
   ]
  },
  {
   "cell_type": "markdown",
   "metadata": {},
   "source": [
    "Note that specifying the error, in this case `TypeError`, is optional. It is good practice to specify the error, because otherwise the exception will catch any error and you could incorrectly handle an error you didn't anticipate."
   ]
  },
  {
   "cell_type": "markdown",
   "metadata": {},
   "source": [
    "## Variable Number of Argument Functions"
   ]
  },
  {
   "cell_type": "markdown",
   "metadata": {},
   "source": [
    "If the number of arguments that is to be accepted by a function is not known then a asterisk symbol is used before the argument."
   ]
  },
  {
   "cell_type": "code",
   "execution_count": 8,
   "metadata": {},
   "outputs": [],
   "source": [
    "def add_n(*args):\n",
    "    res = 0\n",
    "    reslist = []\n",
    "    for i in args:\n",
    "        reslist.append(i)\n",
    "    print (reslist)\n",
    "    return sum(reslist)"
   ]
  },
  {
   "cell_type": "markdown",
   "metadata": {},
   "source": [
    "The above function accepts any number of arguments, defines a list and appends all the arguments into that list and return the sum of all the arguments."
   ]
  },
  {
   "cell_type": "code",
   "execution_count": 9,
   "metadata": {},
   "outputs": [
    {
     "name": "stdout",
     "output_type": "stream",
     "text": [
      "[1, 2, 3, 4, 5]\n"
     ]
    },
    {
     "data": {
      "text/plain": [
       "15"
      ]
     },
     "execution_count": 9,
     "metadata": {},
     "output_type": "execute_result"
    }
   ],
   "source": [
    "add_n(1,2,3,4,5)"
   ]
  },
  {
   "cell_type": "code",
   "execution_count": 10,
   "metadata": {},
   "outputs": [
    {
     "name": "stdout",
     "output_type": "stream",
     "text": [
      "[1, 2, 3]\n"
     ]
    },
    {
     "data": {
      "text/plain": [
       "6"
      ]
     },
     "execution_count": 10,
     "metadata": {},
     "output_type": "execute_result"
    }
   ],
   "source": [
    "add_n(1,2,3)"
   ]
  },
  {
   "cell_type": "markdown",
   "metadata": {},
   "source": [
    "Note that `*args` is a tuple:"
   ]
  },
  {
   "cell_type": "code",
   "execution_count": 11,
   "metadata": {},
   "outputs": [],
   "source": [
    "def test_arg(*args):\n",
    "    print (type(args))\n",
    "    print (args)"
   ]
  },
  {
   "cell_type": "code",
   "execution_count": 12,
   "metadata": {},
   "outputs": [
    {
     "name": "stdout",
     "output_type": "stream",
     "text": [
      "String Test:\n",
      "<class 'tuple'>\n",
      "('Hello',)\n",
      "List Test:\n",
      "<class 'tuple'>\n",
      "([1, 2, 3],)\n"
     ]
    }
   ],
   "source": [
    "print (\"String Test:\")\n",
    "test_arg(\"Hello\")\n",
    "\n",
    "print (\"List Test:\")\n",
    "test_arg([1,2,3])\n"
   ]
  },
  {
   "cell_type": "markdown",
   "metadata": {},
   "source": [
    "Note that you can mix required arguments with additional variable arguments:"
   ]
  },
  {
   "cell_type": "code",
   "execution_count": 13,
   "metadata": {},
   "outputs": [
    {
     "name": "stdout",
     "output_type": "stream",
     "text": [
      "<class 'tuple'>\n",
      "()\n",
      "<class 'tuple'>\n",
      "('Hello',)\n"
     ]
    }
   ],
   "source": [
    "def test_arg_1(x,*args):\n",
    "    print (type(args))\n",
    "    print (args)\n",
    "    \n",
    "test_arg_1(\"Hello\")\n",
    "\n",
    "test_arg_1([1,2,3],\"Hello\")\n",
    "\n"
   ]
  },
  {
   "cell_type": "markdown",
   "metadata": {},
   "source": [
    "Another way to get variable arguments is to use `**args`. Here the arguments will be put into a dictionary, but you will have to specify explicity the name of the arguments:"
   ]
  },
  {
   "cell_type": "code",
   "execution_count": 14,
   "metadata": {},
   "outputs": [],
   "source": [
    "def test_arg_2(**args):\n",
    "    print (type(args))\n",
    "    print (args)"
   ]
  },
  {
   "cell_type": "code",
   "execution_count": 15,
   "metadata": {},
   "outputs": [
    {
     "name": "stdout",
     "output_type": "stream",
     "text": [
      "String Test:\n",
      "<class 'dict'>\n",
      "{'x': 'Hello'}\n",
      "List Test:\n",
      "<class 'dict'>\n",
      "{'x': [1, 2, 3]}\n"
     ]
    }
   ],
   "source": [
    "print (\"String Test:\")\n",
    "test_arg_2(x=\"Hello\")\n",
    "\n",
    "print (\"List Test:\")\n",
    "test_arg_2(x=[1,2,3])"
   ]
  },
  {
   "cell_type": "markdown",
   "metadata": {},
   "source": [
    "### Optional Arguments and `**args` (Advanced)\n",
    "\n",
    "Some libraries use a powerful usage pattern with `**args`. These libraries typically have functions that call other functions. Imagine two functions: `func1(x)` and `func2(y,a=1,b=2,c=3)` that is called by `func1`. If you want to change the value of `a` when you call `func1`, you could add a `a` as an optional argument to `func1` and take care to propagate the `a` to `func2`. It becomes very combersome if `func1` wants calls the lots of functions and you want to be able to change any inner function argument when you call `func1`.\n",
    "\n",
    "Here's an example that shows how to elegantly address this problem in a general way. Simply add `**args` to all of your functions:"
   ]
  },
  {
   "cell_type": "code",
   "execution_count": 16,
   "metadata": {},
   "outputs": [],
   "source": [
    "def func1(name=None,**args):\n",
    "    if name:\n",
    "        print (\"My name is\", name)\n",
    "\n",
    "def func2(message=None,**args):\n",
    "    if message:\n",
    "        print (\"My message is\", message)\n",
    "    \n",
    "def func3(**args):\n",
    "    if \"name\" in args:\n",
    "        print (args[\"name\"],\"said:\")\n",
    "    func1(**args)\n",
    "    func2(**args)\n",
    "    "
   ]
  },
  {
   "cell_type": "code",
   "execution_count": 17,
   "metadata": {},
   "outputs": [
    {
     "name": "stdout",
     "output_type": "stream",
     "text": [
      "John said:\n",
      "My name is John\n",
      "My message is Hello!\n"
     ]
    }
   ],
   "source": [
    "func3(name=\"John\",message=\"Hello!\")"
   ]
  },
  {
   "cell_type": "markdown",
   "metadata": {},
   "source": [
    "## Lambda Functions"
   ]
  },
  {
   "cell_type": "markdown",
   "metadata": {},
   "source": [
    "Sometimes you don't want to define a small function that you may use once. `lambda` allows you to implement small functions which are not defined with any name and carry a single expression whose result is returned. Lambda functions are very handy when operating with lists. These function are defined by the keyword `lambda` followed by the variables, a colon and the respective expression."
   ]
  },
  {
   "cell_type": "code",
   "execution_count": 18,
   "metadata": {},
   "outputs": [],
   "source": [
    "z = lambda x: x * x"
   ]
  },
  {
   "cell_type": "code",
   "execution_count": 19,
   "metadata": {},
   "outputs": [
    {
     "data": {
      "text/plain": [
       "64"
      ]
     },
     "execution_count": 19,
     "metadata": {},
     "output_type": "execute_result"
    }
   ],
   "source": [
    "z(8)"
   ]
  },
  {
   "cell_type": "markdown",
   "metadata": {},
   "source": [
    "To appreciate the power of `lambda`, lets introduce some built-in functional programming abilties of python: `map` and `filter`."
   ]
  },
  {
   "cell_type": "markdown",
   "metadata": {},
   "source": [
    "### map"
   ]
  },
  {
   "cell_type": "markdown",
   "metadata": {},
   "source": [
    "**map( )** function basically executes the function that is defined to each of the list's element separately."
   ]
  },
  {
   "cell_type": "code",
   "execution_count": 20,
   "metadata": {},
   "outputs": [],
   "source": [
    "list1 = [1,2,3,4,5,6,7,8,9]"
   ]
  },
  {
   "cell_type": "code",
   "execution_count": 21,
   "metadata": {},
   "outputs": [
    {
     "name": "stdout",
     "output_type": "stream",
     "text": [
      "<map object at 0x10ecce700>\n"
     ]
    }
   ],
   "source": [
    "eg = map(lambda x:x+2, list1)\n",
    "print (eg)"
   ]
  },
  {
   "cell_type": "markdown",
   "metadata": {},
   "source": [
    "In python 3 you don't get the result, but rather a iterable which will compute the result as needed:"
   ]
  },
  {
   "cell_type": "code",
   "execution_count": 26,
   "metadata": {},
   "outputs": [
    {
     "name": "stdout",
     "output_type": "stream",
     "text": [
      "3\n",
      "4\n",
      "5\n",
      "6\n",
      "7\n",
      "8\n",
      "9\n",
      "10\n",
      "11\n"
     ]
    }
   ],
   "source": [
    "for x in eg:\n",
    "    print(x)"
   ]
  },
  {
   "cell_type": "markdown",
   "metadata": {},
   "source": [
    "If you want to compute the result, just force it in the following way:"
   ]
  },
  {
   "cell_type": "code",
   "execution_count": 23,
   "metadata": {},
   "outputs": [
    {
     "name": "stdout",
     "output_type": "stream",
     "text": [
      "[3, 4, 5, 6, 7, 8, 9, 10, 11]\n"
     ]
    }
   ],
   "source": [
    "eg = list(map(lambda x:x+2, list1))\n",
    "print (eg)"
   ]
  },
  {
   "cell_type": "markdown",
   "metadata": {},
   "source": [
    "You can also add two lists."
   ]
  },
  {
   "cell_type": "code",
   "execution_count": 24,
   "metadata": {},
   "outputs": [],
   "source": [
    "list2 = [9,8,7,6,5,4,3,2,1]"
   ]
  },
  {
   "cell_type": "code",
   "execution_count": 25,
   "metadata": {},
   "outputs": [
    {
     "name": "stdout",
     "output_type": "stream",
     "text": [
      "[10, 10, 10, 10, 10, 10, 10, 10, 10]\n"
     ]
    }
   ],
   "source": [
    "eg2 = list(map(lambda x,y:x+y, list1,list2))\n",
    "print (eg2)"
   ]
  },
  {
   "cell_type": "markdown",
   "metadata": {},
   "source": [
    "Not only lambda function but also other built in functions can also be used."
   ]
  },
  {
   "cell_type": "code",
   "execution_count": 27,
   "metadata": {},
   "outputs": [
    {
     "name": "stdout",
     "output_type": "stream",
     "text": [
      "['10', '10', '10', '10', '10', '10', '10', '10', '10']\n"
     ]
    }
   ],
   "source": [
    "eg3 = list(map(str,eg2))\n",
    "print (eg3)"
   ]
  },
  {
   "cell_type": "markdown",
   "metadata": {},
   "source": [
    "### filter"
   ]
  },
  {
   "cell_type": "markdown",
   "metadata": {},
   "source": [
    "**filter( )** function is used to filter out the values in a list. Note that **filter()** function returns the result in a new list."
   ]
  },
  {
   "cell_type": "code",
   "execution_count": 28,
   "metadata": {},
   "outputs": [],
   "source": [
    "list1 = [1,2,3,4,5,6,7,8,9]"
   ]
  },
  {
   "cell_type": "markdown",
   "metadata": {},
   "source": [
    "To get the elements which are less than 5,"
   ]
  },
  {
   "cell_type": "code",
   "execution_count": 29,
   "metadata": {},
   "outputs": [
    {
     "data": {
      "text/plain": [
       "[1, 2, 3, 4]"
      ]
     },
     "execution_count": 29,
     "metadata": {},
     "output_type": "execute_result"
    }
   ],
   "source": [
    "list(filter(lambda x:x<5,list1))"
   ]
  },
  {
   "cell_type": "markdown",
   "metadata": {},
   "source": [
    "Notice what happens when **map()** is used."
   ]
  },
  {
   "cell_type": "code",
   "execution_count": 30,
   "metadata": {},
   "outputs": [
    {
     "data": {
      "text/plain": [
       "[True, True, True, True, False, False, False, False, False]"
      ]
     },
     "execution_count": 30,
     "metadata": {},
     "output_type": "execute_result"
    }
   ],
   "source": [
    "list(map(lambda x:x<5, list1))"
   ]
  },
  {
   "cell_type": "markdown",
   "metadata": {},
   "source": [
    "We can conclude that, whatever is returned true in **map( )** function that particular element is returned when **filter( )** function is used."
   ]
  },
  {
   "cell_type": "code",
   "execution_count": 31,
   "metadata": {},
   "outputs": [
    {
     "data": {
      "text/plain": [
       "[4, 8]"
      ]
     },
     "execution_count": 31,
     "metadata": {},
     "output_type": "execute_result"
    }
   ],
   "source": [
    "list(filter(lambda x:x%4==0,list1))"
   ]
  },
  {
   "cell_type": "markdown",
   "metadata": {},
   "source": [
    "## File IO\n",
    "\n",
    "Python makes it easy to read/write files. There are two types of files we will need to be aware of:\n",
    "1. Text files: consisting of lines of sequences of characters terminated by End Of Line (EOL) character.\n",
    "2. Binary files: everything else.\n",
    "\n",
    "You can open a file for reading or writing with the `open` built-in function:"
   ]
  },
  {
   "cell_type": "code",
   "execution_count": 32,
   "metadata": {},
   "outputs": [
    {
     "name": "stdout",
     "output_type": "stream",
     "text": [
      "<_io.TextIOWrapper name='a_file.txt' mode='w' encoding='UTF-8'>\n"
     ]
    }
   ],
   "source": [
    "file_obj = open(\"a_file.txt\",\"w\")\n",
    "print (file_obj)\n",
    "file_obj.close()"
   ]
  },
  {
   "cell_type": "markdown",
   "metadata": {},
   "source": [
    "The first argument of `open` is the filename (a string). The second argument (also a string) indicate the mode in which you are opening the file:\n",
    "\n",
    "* ‘r’ – Read mode which is used when the file is only being read.\n",
    "* ‘w’ – Write mode which is used to edit and write new information to the file (any existing files with the same name will be erased when this mode is activated).\n",
    "* ‘a’ – Appending mode, which is used to add new data to the end of the file; that is new information is automatically amended to the end. \n",
    "* ‘r+’ – Special read and write mode, which is used to handle both actions when working with a file. \n",
    "\n",
    "You can write text in the file as follows:"
   ]
  },
  {
   "cell_type": "code",
   "execution_count": 33,
   "metadata": {},
   "outputs": [],
   "source": [
    "file_obj = open(\"a_file.txt\",\"w\")\n",
    "file_obj.write(\"This is our first line \\n\")\n",
    "file_obj.write(\"This is our second line \\n\")\n",
    "file_obj.write(\"This is our third line \\n\")\n",
    "\n",
    "file_obj.close()"
   ]
  },
  {
   "cell_type": "markdown",
   "metadata": {},
   "source": [
    "Note the \"\\n\" tells puts the new line character at the end of each line.\n",
    "\n",
    "If you ran the cell above, you made a file. Lets use the \"cat\" shell command to print out its contents:"
   ]
  },
  {
   "cell_type": "code",
   "execution_count": 34,
   "metadata": {},
   "outputs": [
    {
     "name": "stdout",
     "output_type": "stream",
     "text": [
      "This is our first line \r\n",
      "This is our second line \r\n",
      "This is our third line \r\n"
     ]
    }
   ],
   "source": [
    "!cat a_file.txt"
   ]
  },
  {
   "cell_type": "markdown",
   "metadata": {},
   "source": [
    "We can do the same using in python read."
   ]
  },
  {
   "cell_type": "code",
   "execution_count": 35,
   "metadata": {},
   "outputs": [
    {
     "name": "stdout",
     "output_type": "stream",
     "text": [
      "<class 'str'>\n",
      "This is our first line \n",
      "This is our second line \n",
      "This is our third line \n",
      "\n"
     ]
    }
   ],
   "source": [
    "file_obj = open(\"a_file.txt\",\"r\")\n",
    "contents= file_obj.read()\n",
    "print (type(contents))\n",
    "print (contents)\n",
    "file_obj.close()"
   ]
  },
  {
   "cell_type": "markdown",
   "metadata": {},
   "source": [
    "You can specify how many characters to read:"
   ]
  },
  {
   "cell_type": "code",
   "execution_count": 36,
   "metadata": {},
   "outputs": [
    {
     "name": "stdout",
     "output_type": "stream",
     "text": [
      "This is ou\n"
     ]
    }
   ],
   "source": [
    "file_obj = open(\"a_file.txt\",\"r\")\n",
    "print (file_obj.read(10))\n",
    "file_obj.close()"
   ]
  },
  {
   "cell_type": "markdown",
   "metadata": {},
   "source": [
    "Or read one line at a time:"
   ]
  },
  {
   "cell_type": "code",
   "execution_count": 37,
   "metadata": {},
   "outputs": [
    {
     "name": "stdout",
     "output_type": "stream",
     "text": [
      "This is our first line \n",
      "\n",
      "This is our second line \n",
      "\n"
     ]
    }
   ],
   "source": [
    "file_obj = open(\"a_file.txt\",\"r\")\n",
    "print (file_obj.readline())\n",
    "print (file_obj.readline())\n",
    "file_obj.close()\n"
   ]
  },
  {
   "cell_type": "markdown",
   "metadata": {},
   "source": [
    "Read all of the lines into a list:"
   ]
  },
  {
   "cell_type": "code",
   "execution_count": 38,
   "metadata": {},
   "outputs": [
    {
     "name": "stdout",
     "output_type": "stream",
     "text": [
      "['This is our first line \\n', 'This is our second line \\n', 'This is our third line \\n']\n"
     ]
    }
   ],
   "source": [
    "file_obj = open(\"a_file.txt\",\"r\")\n",
    "print (file_obj.readlines())\n",
    "file_obj.close()"
   ]
  },
  {
   "cell_type": "markdown",
   "metadata": {},
   "source": [
    "What if we don't know how many lines to read? We can loop over the lines:"
   ]
  },
  {
   "cell_type": "code",
   "execution_count": 39,
   "metadata": {},
   "outputs": [
    {
     "name": "stdout",
     "output_type": "stream",
     "text": [
      "This is our first line \n",
      "This is our second line \n",
      "This is our third line \n"
     ]
    }
   ],
   "source": [
    "file_obj = open(\"a_file.txt\", \"r\") \n",
    "for line in file_obj: \n",
    "    print (line,end=\"\" )\n",
    "file_obj.close()\n"
   ]
  },
  {
   "cell_type": "markdown",
   "metadata": {},
   "source": [
    "So far we just stored strings, what if we want to store numbers? "
   ]
  },
  {
   "cell_type": "code",
   "execution_count": 40,
   "metadata": {},
   "outputs": [
    {
     "name": "stdout",
     "output_type": "stream",
     "text": [
      "1234"
     ]
    }
   ],
   "source": [
    "numbers=[1,2,3,4]\n",
    "\n",
    "file_obj = open(\"a_file_with_numbers.txt\",\"w\")\n",
    "for number in numbers:\n",
    "    file_obj.write(str(number))\n",
    "\n",
    "file_obj.close()\n",
    "\n",
    "!cat a_file_with_numbers.txt"
   ]
  },
  {
   "cell_type": "markdown",
   "metadata": {},
   "source": [
    "That's not quite what we want (why?), lets try something else:"
   ]
  },
  {
   "cell_type": "code",
   "execution_count": 41,
   "metadata": {},
   "outputs": [
    {
     "name": "stdout",
     "output_type": "stream",
     "text": [
      "1,2,3,4"
     ]
    }
   ],
   "source": [
    "numbers=[1,2,3,4]\n",
    "\n",
    "file_obj = open(\"a_file_with_numbers.txt\",\"w\")\n",
    "first=True\n",
    "for number in numbers:\n",
    "    if not first:\n",
    "        file_obj.write(\",\")\n",
    "    first=False\n",
    "    file_obj.write(str(number))\n",
    "\n",
    "file_obj.close()\n",
    "!cat a_file_with_numbers.txt"
   ]
  },
  {
   "cell_type": "markdown",
   "metadata": {},
   "source": [
    "We just created a Camma Separated File (CSV).\n",
    "\n",
    "Let's read it back:"
   ]
  },
  {
   "cell_type": "code",
   "execution_count": 42,
   "metadata": {},
   "outputs": [
    {
     "name": "stdout",
     "output_type": "stream",
     "text": [
      "[1, 2, 3, 4]\n"
     ]
    }
   ],
   "source": [
    "file_obj = open(\"a_file_with_numbers.txt\",\"r\")\n",
    "\n",
    "numbers=list()\n",
    "\n",
    "for line in file_obj:\n",
    "    numbers.extend(map(int,line.split(\",\")))\n",
    "\n",
    "file_obj.close()\n",
    "print (numbers)"
   ]
  }
 ],
 "metadata": {
  "kernelspec": {
   "display_name": "Python 3",
   "language": "python",
   "name": "python3"
  },
  "language_info": {
   "codemirror_mode": {
    "name": "ipython",
    "version": 3
   },
   "file_extension": ".py",
   "mimetype": "text/x-python",
   "name": "python",
   "nbconvert_exporter": "python",
   "pygments_lexer": "ipython3",
   "version": "3.8.1"
  }
 },
 "nbformat": 4,
 "nbformat_minor": 2
}
